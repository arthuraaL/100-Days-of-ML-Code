{
  "nbformat": 4,
  "nbformat_minor": 0,
  "metadata": {
    "colab": {
      "name": "Untitled6.ipynb",
      "provenance": [],
      "include_colab_link": true
    },
    "kernelspec": {
      "name": "python3",
      "display_name": "Python 3"
    },
    "language_info": {
      "name": "python"
    }
  },
  "cells": [
    {
      "cell_type": "markdown",
      "metadata": {
        "id": "view-in-github",
        "colab_type": "text"
      },
      "source": [
        "<a href=\"https://colab.research.google.com/github/arthuraaL/100-Days-of-ML-Code/blob/main/Decision%20Tree/decision_tree.ipynb\" target=\"_parent\"><img src=\"https://colab.research.google.com/assets/colab-badge.svg\" alt=\"Open In Colab\"/></a>"
      ]
    },
    {
      "cell_type": "markdown",
      "metadata": {
        "id": "YYXliR0rthKj"
      },
      "source": [
        ""
      ]
    },
    {
      "cell_type": "code",
      "metadata": {
        "id": "tiqCn4dHtfN0"
      },
      "source": [
        "import pandas as pd\n",
        "from sklearn import tree\n",
        "from sklearn.tree import DecisionTreeClassifier\n",
        "from sklearn.model_selection import train_test_split\n",
        "from sklearn import metrics\n",
        "import matplotlib.pyplot as plt\n",
        "%matplotlib inline"
      ],
      "execution_count": 57,
      "outputs": []
    },
    {
      "cell_type": "markdown",
      "metadata": {
        "id": "vUOKsT7xuZkP"
      },
      "source": [
        "## Loading dataset\n",
        "\n"
      ]
    },
    {
      "cell_type": "code",
      "metadata": {
        "id": "IJC2zwnzxJww"
      },
      "source": [
        "data_url = 'https://raw.githubusercontent.com/arthuraaL/100-Days-of-ML-Code/main/Data/diabetes.csv'\n",
        "df_train = pd.read_csv(data_url)"
      ],
      "execution_count": 12,
      "outputs": []
    },
    {
      "cell_type": "markdown",
      "metadata": {
        "id": "YgvPXbVNz1Gp"
      },
      "source": [
        "## Data analysis"
      ]
    },
    {
      "cell_type": "code",
      "metadata": {
        "id": "D1WQeKVJz4c1",
        "outputId": "4926d929-b3e1-4f7e-9578-eb7a688b2920",
        "colab": {
          "base_uri": "https://localhost:8080/"
        }
      },
      "source": [
        "# view the dimensions of the data\n",
        "df_train.shape"
      ],
      "execution_count": 13,
      "outputs": [
        {
          "output_type": "execute_result",
          "data": {
            "text/plain": [
              "(768, 9)"
            ]
          },
          "metadata": {
            "tags": []
          },
          "execution_count": 13
        }
      ]
    },
    {
      "cell_type": "code",
      "metadata": {
        "id": "0Imqgjcwz71f",
        "outputId": "24079311-af4c-4407-9275-c3dd843d2e0d",
        "colab": {
          "base_uri": "https://localhost:8080/",
          "height": 204
        }
      },
      "source": [
        "# preview the dataset\n",
        "df_train.head()"
      ],
      "execution_count": 14,
      "outputs": [
        {
          "output_type": "execute_result",
          "data": {
            "text/html": [
              "<div>\n",
              "<style scoped>\n",
              "    .dataframe tbody tr th:only-of-type {\n",
              "        vertical-align: middle;\n",
              "    }\n",
              "\n",
              "    .dataframe tbody tr th {\n",
              "        vertical-align: top;\n",
              "    }\n",
              "\n",
              "    .dataframe thead th {\n",
              "        text-align: right;\n",
              "    }\n",
              "</style>\n",
              "<table border=\"1\" class=\"dataframe\">\n",
              "  <thead>\n",
              "    <tr style=\"text-align: right;\">\n",
              "      <th></th>\n",
              "      <th>Pregnancies</th>\n",
              "      <th>Glucose</th>\n",
              "      <th>BloodPressure</th>\n",
              "      <th>SkinThickness</th>\n",
              "      <th>Insulin</th>\n",
              "      <th>BMI</th>\n",
              "      <th>DiabetesPedigreeFunction</th>\n",
              "      <th>Age</th>\n",
              "      <th>Outcome</th>\n",
              "    </tr>\n",
              "  </thead>\n",
              "  <tbody>\n",
              "    <tr>\n",
              "      <th>0</th>\n",
              "      <td>6</td>\n",
              "      <td>148</td>\n",
              "      <td>72</td>\n",
              "      <td>35</td>\n",
              "      <td>0</td>\n",
              "      <td>33.6</td>\n",
              "      <td>0.627</td>\n",
              "      <td>50</td>\n",
              "      <td>1</td>\n",
              "    </tr>\n",
              "    <tr>\n",
              "      <th>1</th>\n",
              "      <td>1</td>\n",
              "      <td>85</td>\n",
              "      <td>66</td>\n",
              "      <td>29</td>\n",
              "      <td>0</td>\n",
              "      <td>26.6</td>\n",
              "      <td>0.351</td>\n",
              "      <td>31</td>\n",
              "      <td>0</td>\n",
              "    </tr>\n",
              "    <tr>\n",
              "      <th>2</th>\n",
              "      <td>8</td>\n",
              "      <td>183</td>\n",
              "      <td>64</td>\n",
              "      <td>0</td>\n",
              "      <td>0</td>\n",
              "      <td>23.3</td>\n",
              "      <td>0.672</td>\n",
              "      <td>32</td>\n",
              "      <td>1</td>\n",
              "    </tr>\n",
              "    <tr>\n",
              "      <th>3</th>\n",
              "      <td>1</td>\n",
              "      <td>89</td>\n",
              "      <td>66</td>\n",
              "      <td>23</td>\n",
              "      <td>94</td>\n",
              "      <td>28.1</td>\n",
              "      <td>0.167</td>\n",
              "      <td>21</td>\n",
              "      <td>0</td>\n",
              "    </tr>\n",
              "    <tr>\n",
              "      <th>4</th>\n",
              "      <td>0</td>\n",
              "      <td>137</td>\n",
              "      <td>40</td>\n",
              "      <td>35</td>\n",
              "      <td>168</td>\n",
              "      <td>43.1</td>\n",
              "      <td>2.288</td>\n",
              "      <td>33</td>\n",
              "      <td>1</td>\n",
              "    </tr>\n",
              "  </tbody>\n",
              "</table>\n",
              "</div>"
            ],
            "text/plain": [
              "   Pregnancies  Glucose  BloodPressure  ...  DiabetesPedigreeFunction  Age  Outcome\n",
              "0            6      148             72  ...                     0.627   50        1\n",
              "1            1       85             66  ...                     0.351   31        0\n",
              "2            8      183             64  ...                     0.672   32        1\n",
              "3            1       89             66  ...                     0.167   21        0\n",
              "4            0      137             40  ...                     2.288   33        1\n",
              "\n",
              "[5 rows x 9 columns]"
            ]
          },
          "metadata": {
            "tags": []
          },
          "execution_count": 14
        }
      ]
    },
    {
      "cell_type": "code",
      "metadata": {
        "id": "mocm2Iln0Qhn",
        "outputId": "cfb3ccad-ace0-4527-a234-9e4c12a06f77",
        "colab": {
          "base_uri": "https://localhost:8080/"
        }
      },
      "source": [
        "# summary of the data\n",
        "df_train.info()"
      ],
      "execution_count": 16,
      "outputs": [
        {
          "output_type": "stream",
          "text": [
            "<class 'pandas.core.frame.DataFrame'>\n",
            "RangeIndex: 768 entries, 0 to 767\n",
            "Data columns (total 9 columns):\n",
            " #   Column                    Non-Null Count  Dtype  \n",
            "---  ------                    --------------  -----  \n",
            " 0   Pregnancies               768 non-null    int64  \n",
            " 1   Glucose                   768 non-null    int64  \n",
            " 2   BloodPressure             768 non-null    int64  \n",
            " 3   SkinThickness             768 non-null    int64  \n",
            " 4   Insulin                   768 non-null    int64  \n",
            " 5   BMI                       768 non-null    float64\n",
            " 6   DiabetesPedigreeFunction  768 non-null    float64\n",
            " 7   Age                       768 non-null    int64  \n",
            " 8   Outcome                   768 non-null    int64  \n",
            "dtypes: float64(2), int64(7)\n",
            "memory usage: 54.1 KB\n"
          ],
          "name": "stdout"
        }
      ]
    },
    {
      "cell_type": "code",
      "metadata": {
        "id": "GQ1fkhsJ0-w_",
        "outputId": "e672c25b-4c18-47f4-bfd8-ab0539a1b115",
        "colab": {
          "base_uri": "https://localhost:8080/",
          "height": 297
        }
      },
      "source": [
        "df_train.describe()\n",
        "\n",
        "# There's no missing value, as we can check in count row"
      ],
      "execution_count": 19,
      "outputs": [
        {
          "output_type": "execute_result",
          "data": {
            "text/html": [
              "<div>\n",
              "<style scoped>\n",
              "    .dataframe tbody tr th:only-of-type {\n",
              "        vertical-align: middle;\n",
              "    }\n",
              "\n",
              "    .dataframe tbody tr th {\n",
              "        vertical-align: top;\n",
              "    }\n",
              "\n",
              "    .dataframe thead th {\n",
              "        text-align: right;\n",
              "    }\n",
              "</style>\n",
              "<table border=\"1\" class=\"dataframe\">\n",
              "  <thead>\n",
              "    <tr style=\"text-align: right;\">\n",
              "      <th></th>\n",
              "      <th>Pregnancies</th>\n",
              "      <th>Glucose</th>\n",
              "      <th>BloodPressure</th>\n",
              "      <th>SkinThickness</th>\n",
              "      <th>Insulin</th>\n",
              "      <th>BMI</th>\n",
              "      <th>DiabetesPedigreeFunction</th>\n",
              "      <th>Age</th>\n",
              "      <th>Outcome</th>\n",
              "    </tr>\n",
              "  </thead>\n",
              "  <tbody>\n",
              "    <tr>\n",
              "      <th>count</th>\n",
              "      <td>768.000000</td>\n",
              "      <td>768.000000</td>\n",
              "      <td>768.000000</td>\n",
              "      <td>768.000000</td>\n",
              "      <td>768.000000</td>\n",
              "      <td>768.000000</td>\n",
              "      <td>768.000000</td>\n",
              "      <td>768.000000</td>\n",
              "      <td>768.000000</td>\n",
              "    </tr>\n",
              "    <tr>\n",
              "      <th>mean</th>\n",
              "      <td>3.845052</td>\n",
              "      <td>120.894531</td>\n",
              "      <td>69.105469</td>\n",
              "      <td>20.536458</td>\n",
              "      <td>79.799479</td>\n",
              "      <td>31.992578</td>\n",
              "      <td>0.471876</td>\n",
              "      <td>33.240885</td>\n",
              "      <td>0.348958</td>\n",
              "    </tr>\n",
              "    <tr>\n",
              "      <th>std</th>\n",
              "      <td>3.369578</td>\n",
              "      <td>31.972618</td>\n",
              "      <td>19.355807</td>\n",
              "      <td>15.952218</td>\n",
              "      <td>115.244002</td>\n",
              "      <td>7.884160</td>\n",
              "      <td>0.331329</td>\n",
              "      <td>11.760232</td>\n",
              "      <td>0.476951</td>\n",
              "    </tr>\n",
              "    <tr>\n",
              "      <th>min</th>\n",
              "      <td>0.000000</td>\n",
              "      <td>0.000000</td>\n",
              "      <td>0.000000</td>\n",
              "      <td>0.000000</td>\n",
              "      <td>0.000000</td>\n",
              "      <td>0.000000</td>\n",
              "      <td>0.078000</td>\n",
              "      <td>21.000000</td>\n",
              "      <td>0.000000</td>\n",
              "    </tr>\n",
              "    <tr>\n",
              "      <th>25%</th>\n",
              "      <td>1.000000</td>\n",
              "      <td>99.000000</td>\n",
              "      <td>62.000000</td>\n",
              "      <td>0.000000</td>\n",
              "      <td>0.000000</td>\n",
              "      <td>27.300000</td>\n",
              "      <td>0.243750</td>\n",
              "      <td>24.000000</td>\n",
              "      <td>0.000000</td>\n",
              "    </tr>\n",
              "    <tr>\n",
              "      <th>50%</th>\n",
              "      <td>3.000000</td>\n",
              "      <td>117.000000</td>\n",
              "      <td>72.000000</td>\n",
              "      <td>23.000000</td>\n",
              "      <td>30.500000</td>\n",
              "      <td>32.000000</td>\n",
              "      <td>0.372500</td>\n",
              "      <td>29.000000</td>\n",
              "      <td>0.000000</td>\n",
              "    </tr>\n",
              "    <tr>\n",
              "      <th>75%</th>\n",
              "      <td>6.000000</td>\n",
              "      <td>140.250000</td>\n",
              "      <td>80.000000</td>\n",
              "      <td>32.000000</td>\n",
              "      <td>127.250000</td>\n",
              "      <td>36.600000</td>\n",
              "      <td>0.626250</td>\n",
              "      <td>41.000000</td>\n",
              "      <td>1.000000</td>\n",
              "    </tr>\n",
              "    <tr>\n",
              "      <th>max</th>\n",
              "      <td>17.000000</td>\n",
              "      <td>199.000000</td>\n",
              "      <td>122.000000</td>\n",
              "      <td>99.000000</td>\n",
              "      <td>846.000000</td>\n",
              "      <td>67.100000</td>\n",
              "      <td>2.420000</td>\n",
              "      <td>81.000000</td>\n",
              "      <td>1.000000</td>\n",
              "    </tr>\n",
              "  </tbody>\n",
              "</table>\n",
              "</div>"
            ],
            "text/plain": [
              "       Pregnancies     Glucose  ...         Age     Outcome\n",
              "count   768.000000  768.000000  ...  768.000000  768.000000\n",
              "mean      3.845052  120.894531  ...   33.240885    0.348958\n",
              "std       3.369578   31.972618  ...   11.760232    0.476951\n",
              "min       0.000000    0.000000  ...   21.000000    0.000000\n",
              "25%       1.000000   99.000000  ...   24.000000    0.000000\n",
              "50%       3.000000  117.000000  ...   29.000000    0.000000\n",
              "75%       6.000000  140.250000  ...   41.000000    1.000000\n",
              "max      17.000000  199.000000  ...   81.000000    1.000000\n",
              "\n",
              "[8 rows x 9 columns]"
            ]
          },
          "metadata": {
            "tags": []
          },
          "execution_count": 19
        }
      ]
    },
    {
      "cell_type": "code",
      "metadata": {
        "id": "2pJGwLon1RuR",
        "outputId": "4c5aeae9-45c7-4d47-a1ba-27a13e28038a",
        "colab": {
          "base_uri": "https://localhost:8080/"
        }
      },
      "source": [
        "df_train['Outcome'].value_counts()"
      ],
      "execution_count": 20,
      "outputs": [
        {
          "output_type": "execute_result",
          "data": {
            "text/plain": [
              "0    500\n",
              "1    268\n",
              "Name: Outcome, dtype: int64"
            ]
          },
          "metadata": {
            "tags": []
          },
          "execution_count": 20
        }
      ]
    },
    {
      "cell_type": "markdown",
      "metadata": {
        "id": "_NV6wxcz2M4l"
      },
      "source": [
        "## Handling missing data\n",
        "\n",
        "We can confirme that there are no missing values in the dataset."
      ]
    },
    {
      "cell_type": "code",
      "metadata": {
        "id": "vaBBRK_u2ZBk",
        "outputId": "89cabc0f-0633-49ba-d7bd-9283702eabe5",
        "colab": {
          "base_uri": "https://localhost:8080/"
        }
      },
      "source": [
        "print(f'Is missing values in the training data? {df_train.isnull().sum().values.any()}')"
      ],
      "execution_count": 25,
      "outputs": [
        {
          "output_type": "stream",
          "text": [
            "Is missing values in the training data? False\n"
          ],
          "name": "stdout"
        }
      ]
    },
    {
      "cell_type": "markdown",
      "metadata": {
        "id": "ns1kegGI3s46"
      },
      "source": [
        "## Feature selection"
      ]
    },
    {
      "cell_type": "code",
      "metadata": {
        "id": "BGcGpA8D3uHs"
      },
      "source": [
        "X = df_train.drop(columns='Outcome')\n",
        "y = df_train.Outcome"
      ],
      "execution_count": 26,
      "outputs": []
    },
    {
      "cell_type": "markdown",
      "metadata": {
        "id": "R2ezt6db4LF7"
      },
      "source": [
        "## Splitting the dataset"
      ]
    },
    {
      "cell_type": "code",
      "metadata": {
        "id": "wvkzwNpn4PlT"
      },
      "source": [
        "X_train, X_test, y_train, y_test = train_test_split(X, y, test_size=0.3, random_state=7)"
      ],
      "execution_count": 27,
      "outputs": []
    },
    {
      "cell_type": "code",
      "metadata": {
        "id": "HyxDu6135EUx",
        "outputId": "676985e5-dffa-4ead-afa8-bf0135b3a0b7",
        "colab": {
          "base_uri": "https://localhost:8080/"
        }
      },
      "source": [
        "# dimensions of the dataset after splitting\n",
        "print(f'X train has shape: {X_train.shape}')\n",
        "print(f'y train has shape: {y_train.shape}')\n",
        "print(f'X test has shape: {X_test.shape}')\n",
        "print(f'y test has shape: {y_test.shape}')"
      ],
      "execution_count": 28,
      "outputs": [
        {
          "output_type": "stream",
          "text": [
            "X train has shape: (537, 8)\n",
            "y train has shape: (537,)\n",
            "X test has shape: (231, 8)\n",
            "y test has shape: (231,)\n"
          ],
          "name": "stdout"
        }
      ]
    },
    {
      "cell_type": "code",
      "metadata": {
        "id": "B4nCO96W5V8n",
        "outputId": "f02a591f-e89a-4589-e06a-4f30558690bd",
        "colab": {
          "base_uri": "https://localhost:8080/",
          "height": 204
        }
      },
      "source": [
        "X_train.head()"
      ],
      "execution_count": 29,
      "outputs": [
        {
          "output_type": "execute_result",
          "data": {
            "text/html": [
              "<div>\n",
              "<style scoped>\n",
              "    .dataframe tbody tr th:only-of-type {\n",
              "        vertical-align: middle;\n",
              "    }\n",
              "\n",
              "    .dataframe tbody tr th {\n",
              "        vertical-align: top;\n",
              "    }\n",
              "\n",
              "    .dataframe thead th {\n",
              "        text-align: right;\n",
              "    }\n",
              "</style>\n",
              "<table border=\"1\" class=\"dataframe\">\n",
              "  <thead>\n",
              "    <tr style=\"text-align: right;\">\n",
              "      <th></th>\n",
              "      <th>Pregnancies</th>\n",
              "      <th>Glucose</th>\n",
              "      <th>BloodPressure</th>\n",
              "      <th>SkinThickness</th>\n",
              "      <th>Insulin</th>\n",
              "      <th>BMI</th>\n",
              "      <th>DiabetesPedigreeFunction</th>\n",
              "      <th>Age</th>\n",
              "    </tr>\n",
              "  </thead>\n",
              "  <tbody>\n",
              "    <tr>\n",
              "      <th>590</th>\n",
              "      <td>11</td>\n",
              "      <td>111</td>\n",
              "      <td>84</td>\n",
              "      <td>40</td>\n",
              "      <td>0</td>\n",
              "      <td>46.8</td>\n",
              "      <td>0.925</td>\n",
              "      <td>45</td>\n",
              "    </tr>\n",
              "    <tr>\n",
              "      <th>692</th>\n",
              "      <td>2</td>\n",
              "      <td>121</td>\n",
              "      <td>70</td>\n",
              "      <td>32</td>\n",
              "      <td>95</td>\n",
              "      <td>39.1</td>\n",
              "      <td>0.886</td>\n",
              "      <td>23</td>\n",
              "    </tr>\n",
              "    <tr>\n",
              "      <th>492</th>\n",
              "      <td>4</td>\n",
              "      <td>99</td>\n",
              "      <td>68</td>\n",
              "      <td>38</td>\n",
              "      <td>0</td>\n",
              "      <td>32.8</td>\n",
              "      <td>0.145</td>\n",
              "      <td>33</td>\n",
              "    </tr>\n",
              "    <tr>\n",
              "      <th>205</th>\n",
              "      <td>5</td>\n",
              "      <td>111</td>\n",
              "      <td>72</td>\n",
              "      <td>28</td>\n",
              "      <td>0</td>\n",
              "      <td>23.9</td>\n",
              "      <td>0.407</td>\n",
              "      <td>27</td>\n",
              "    </tr>\n",
              "    <tr>\n",
              "      <th>709</th>\n",
              "      <td>2</td>\n",
              "      <td>93</td>\n",
              "      <td>64</td>\n",
              "      <td>32</td>\n",
              "      <td>160</td>\n",
              "      <td>38.0</td>\n",
              "      <td>0.674</td>\n",
              "      <td>23</td>\n",
              "    </tr>\n",
              "  </tbody>\n",
              "</table>\n",
              "</div>"
            ],
            "text/plain": [
              "     Pregnancies  Glucose  BloodPressure  ...   BMI  DiabetesPedigreeFunction  Age\n",
              "590           11      111             84  ...  46.8                     0.925   45\n",
              "692            2      121             70  ...  39.1                     0.886   23\n",
              "492            4       99             68  ...  32.8                     0.145   33\n",
              "205            5      111             72  ...  23.9                     0.407   27\n",
              "709            2       93             64  ...  38.0                     0.674   23\n",
              "\n",
              "[5 rows x 8 columns]"
            ]
          },
          "metadata": {
            "tags": []
          },
          "execution_count": 29
        }
      ]
    },
    {
      "cell_type": "markdown",
      "metadata": {
        "id": "gINX-jAn5ydO"
      },
      "source": [
        "## Decision tree classifier\n",
        "\n",
        "Let's build a Decision Tree model using [gini index](https://bambielli.com/til/2017-10-29-gini-impurity/#:~:text=Gini%20Impurity%20is%20a%20measurement,labels%20from%20the%20data%20set.) as the criterion."
      ]
    },
    {
      "cell_type": "code",
      "metadata": {
        "id": "eMUcl7O864W9"
      },
      "source": [
        "# Create an object\n",
        "clf = DecisionTreeClassifier(criterion='gini', random_state=1)\n",
        "\n",
        "# Train the modelimport graphviz \n",
        "clf.fit(X_train, y_train)\n",
        "\n",
        "# Predict on the test data\n",
        "y_pred = clf.predict(X_test)"
      ],
      "execution_count": 44,
      "outputs": []
    },
    {
      "cell_type": "markdown",
      "metadata": {
        "id": "wcGXwJjR8lfi"
      },
      "source": [
        "## Evaluating the model\n"
      ]
    },
    {
      "cell_type": "code",
      "metadata": {
        "id": "uAxg4dKx8m_o",
        "outputId": "61e56e49-09fb-4d22-fbee-b19247aab895",
        "colab": {
          "base_uri": "https://localhost:8080/"
        }
      },
      "source": [
        "print(f'Accuracy using gini-index: {metrics.accuracy_score(y_test, y_pred}'))"
      ],
      "execution_count": 45,
      "outputs": [
        {
          "output_type": "stream",
          "text": [
            "Accuracy using gini-index: 0.714\n"
          ],
          "name": "stdout"
        }
      ]
    },
    {
      "cell_type": "markdown",
      "metadata": {
        "id": "rOfV79Ug91di"
      },
      "source": [
        "## Checking for overfitting/underfitting"
      ]
    },
    {
      "cell_type": "code",
      "metadata": {
        "id": "Xnas-Jl3950j",
        "outputId": "83761cd0-bc63-4830-e011-50c1d8aac583",
        "colab": {
          "base_uri": "https://localhost:8080/"
        }
      },
      "source": [
        "print(f'Training score: {clf.score(X_train, y_train)}')\n",
        "print(f'Test score: {clf.score(X_test, y_test)}')"
      ],
      "execution_count": 46,
      "outputs": [
        {
          "output_type": "stream",
          "text": [
            "Training score: 1.0\n",
            "Test score: 0.7142857142857143\n"
          ],
          "name": "stdout"
        }
      ]
    },
    {
      "cell_type": "markdown",
      "metadata": {
        "id": "DUzSXXjp-OUL"
      },
      "source": [
        "## Visualizing Decision Trees"
      ]
    },
    {
      "cell_type": "code",
      "metadata": {
        "id": "eKaAXUL8-PPF",
        "outputId": "6363acc7-bd7d-4d1d-d95e-b8d245d9f8c9",
        "colab": {
          "base_uri": "https://localhost:8080/",
          "height": 1000
        }
      },
      "source": [
        "plt.figure(figsize=(15, 13))\n",
        "\n",
        "tree.plot_tree(clf.fit(X_train, y_train))"
      ],
      "execution_count": 58,
      "outputs": [
        {
          "output_type": "execute_result",
          "data": {
            "text/plain": [
              "[Text(379.4176962209302, 681.4414285714286, 'X[1] <= 127.5\\ngini = 0.45\\nsamples = 537\\nvalue = [353, 184]'),\n",
              " Text(175.79433139534885, 630.9642857142857, 'X[7] <= 28.5\\ngini = 0.309\\nsamples = 346\\nvalue = [280, 66]'),\n",
              " Text(81.51017441860465, 580.4871428571428, 'X[5] <= 30.95\\ngini = 0.155\\nsamples = 201\\nvalue = [184, 17]'),\n",
              " Text(29.197674418604652, 530.01, 'X[0] <= 7.5\\ngini = 0.036\\nsamples = 110\\nvalue = [108, 2]'),\n",
              " Text(19.46511627906977, 479.5328571428571, 'X[6] <= 0.672\\ngini = 0.018\\nsamples = 109\\nvalue = [108, 1]'),\n",
              " Text(9.732558139534884, 429.05571428571426, 'gini = 0.0\\nsamples = 95\\nvalue = [95, 0]'),\n",
              " Text(29.197674418604652, 429.05571428571426, 'X[0] <= 2.5\\ngini = 0.133\\nsamples = 14\\nvalue = [13, 1]'),\n",
              " Text(19.46511627906977, 378.5785714285714, 'gini = 0.0\\nsamples = 13\\nvalue = [13, 0]'),\n",
              " Text(38.93023255813954, 378.5785714285714, 'gini = 0.0\\nsamples = 1\\nvalue = [0, 1]'),\n",
              " Text(38.93023255813954, 479.5328571428571, 'gini = 0.0\\nsamples = 1\\nvalue = [0, 1]'),\n",
              " Text(133.82267441860466, 530.01, 'X[6] <= 0.904\\ngini = 0.275\\nsamples = 91\\nvalue = [76, 15]'),\n",
              " Text(102.19186046511628, 479.5328571428571, 'X[3] <= 8.0\\ngini = 0.24\\nsamples = 86\\nvalue = [74, 12]'),\n",
              " Text(68.12790697674419, 429.05571428571426, 'X[1] <= 110.0\\ngini = 0.459\\nsamples = 14\\nvalue = [9, 5]'),\n",
              " Text(58.395348837209305, 378.5785714285714, 'gini = 0.0\\nsamples = 7\\nvalue = [7, 0]'),\n",
              " Text(77.86046511627907, 378.5785714285714, 'X[1] <= 123.0\\ngini = 0.408\\nsamples = 7\\nvalue = [2, 5]'),\n",
              " Text(68.12790697674419, 328.1014285714286, 'X[6] <= 0.799\\ngini = 0.278\\nsamples = 6\\nvalue = [1, 5]'),\n",
              " Text(58.395348837209305, 277.6242857142857, 'gini = 0.0\\nsamples = 5\\nvalue = [0, 5]'),\n",
              " Text(77.86046511627907, 277.6242857142857, 'gini = 0.0\\nsamples = 1\\nvalue = [1, 0]'),\n",
              " Text(87.59302325581396, 328.1014285714286, 'gini = 0.0\\nsamples = 1\\nvalue = [1, 0]'),\n",
              " Text(136.25581395348837, 429.05571428571426, 'X[6] <= 0.501\\ngini = 0.176\\nsamples = 72\\nvalue = [65, 7]'),\n",
              " Text(116.79069767441861, 378.5785714285714, 'X[5] <= 31.1\\ngini = 0.043\\nsamples = 45\\nvalue = [44, 1]'),\n",
              " Text(107.05813953488372, 328.1014285714286, 'gini = 0.0\\nsamples = 1\\nvalue = [0, 1]'),\n",
              " Text(126.5232558139535, 328.1014285714286, 'gini = 0.0\\nsamples = 44\\nvalue = [44, 0]'),\n",
              " Text(155.72093023255815, 378.5785714285714, 'X[2] <= 69.0\\ngini = 0.346\\nsamples = 27\\nvalue = [21, 6]'),\n",
              " Text(145.98837209302326, 328.1014285714286, 'X[2] <= 61.0\\ngini = 0.469\\nsamples = 16\\nvalue = [10, 6]'),\n",
              " Text(136.25581395348837, 277.6242857142857, 'gini = 0.0\\nsamples = 5\\nvalue = [5, 0]'),\n",
              " Text(155.72093023255815, 277.6242857142857, 'X[6] <= 0.544\\ngini = 0.496\\nsamples = 11\\nvalue = [5, 6]'),\n",
              " Text(145.98837209302326, 227.14714285714285, 'gini = 0.0\\nsamples = 4\\nvalue = [0, 4]'),\n",
              " Text(165.45348837209303, 227.14714285714285, 'X[6] <= 0.652\\ngini = 0.408\\nsamples = 7\\nvalue = [5, 2]'),\n",
              " Text(155.72093023255815, 176.66999999999996, 'gini = 0.0\\nsamples = 4\\nvalue = [4, 0]'),\n",
              " Text(175.18604651162792, 176.66999999999996, 'X[5] <= 35.75\\ngini = 0.444\\nsamples = 3\\nvalue = [1, 2]'),\n",
              " Text(165.45348837209303, 126.19285714285718, 'gini = 0.0\\nsamples = 1\\nvalue = [1, 0]'),\n",
              " Text(184.9186046511628, 126.19285714285718, 'gini = 0.0\\nsamples = 2\\nvalue = [0, 2]'),\n",
              " Text(165.45348837209303, 328.1014285714286, 'gini = 0.0\\nsamples = 11\\nvalue = [11, 0]'),\n",
              " Text(165.45348837209303, 479.5328571428571, 'X[4] <= 63.0\\ngini = 0.48\\nsamples = 5\\nvalue = [2, 3]'),\n",
              " Text(155.72093023255815, 429.05571428571426, 'gini = 0.0\\nsamples = 2\\nvalue = [2, 0]'),\n",
              " Text(175.18604651162792, 429.05571428571426, 'gini = 0.0\\nsamples = 3\\nvalue = [0, 3]'),\n",
              " Text(270.07848837209303, 580.4871428571428, 'X[5] <= 26.35\\ngini = 0.447\\nsamples = 145\\nvalue = [96, 49]'),\n",
              " Text(260.34593023255815, 530.01, 'gini = 0.0\\nsamples = 28\\nvalue = [28, 0]'),\n",
              " Text(279.8110465116279, 530.01, 'X[1] <= 99.5\\ngini = 0.487\\nsamples = 117\\nvalue = [68, 49]'),\n",
              " Text(204.38372093023256, 479.5328571428571, 'X[1] <= 28.5\\ngini = 0.314\\nsamples = 41\\nvalue = [33, 8]'),\n",
              " Text(194.6511627906977, 429.05571428571426, 'gini = 0.0\\nsamples = 2\\nvalue = [0, 2]'),\n",
              " Text(214.11627906976744, 429.05571428571426, 'X[0] <= 11.5\\ngini = 0.26\\nsamples = 39\\nvalue = [33, 6]'),\n",
              " Text(194.6511627906977, 378.5785714285714, 'X[6] <= 1.16\\ngini = 0.198\\nsamples = 36\\nvalue = [32, 4]'),\n",
              " Text(184.9186046511628, 328.1014285714286, 'X[1] <= 94.5\\ngini = 0.157\\nsamples = 35\\nvalue = [32, 3]'),\n",
              " Text(175.18604651162792, 277.6242857142857, 'gini = 0.0\\nsamples = 25\\nvalue = [25, 0]'),\n",
              " Text(194.6511627906977, 277.6242857142857, 'X[1] <= 95.5\\ngini = 0.42\\nsamples = 10\\nvalue = [7, 3]'),\n",
              " Text(184.9186046511628, 227.14714285714285, 'gini = 0.0\\nsamples = 2\\nvalue = [0, 2]'),\n",
              " Text(204.38372093023256, 227.14714285714285, 'X[7] <= 51.0\\ngini = 0.219\\nsamples = 8\\nvalue = [7, 1]'),\n",
              " Text(194.6511627906977, 176.66999999999996, 'gini = 0.0\\nsamples = 7\\nvalue = [7, 0]'),\n",
              " Text(214.11627906976744, 176.66999999999996, 'gini = 0.0\\nsamples = 1\\nvalue = [0, 1]'),\n",
              " Text(204.38372093023256, 328.1014285714286, 'gini = 0.0\\nsamples = 1\\nvalue = [0, 1]'),\n",
              " Text(233.58139534883722, 378.5785714285714, 'X[0] <= 12.5\\ngini = 0.444\\nsamples = 3\\nvalue = [1, 2]'),\n",
              " Text(223.84883720930233, 328.1014285714286, 'gini = 0.0\\nsamples = 2\\nvalue = [0, 2]'),\n",
              " Text(243.3139534883721, 328.1014285714286, 'gini = 0.0\\nsamples = 1\\nvalue = [1, 0]'),\n",
              " Text(355.23837209302326, 479.5328571428571, 'X[2] <= 85.0\\ngini = 0.497\\nsamples = 76\\nvalue = [35, 41]'),\n",
              " Text(321.1744186046512, 429.05571428571426, 'X[6] <= 0.252\\ngini = 0.467\\nsamples = 62\\nvalue = [23, 39]'),\n",
              " Text(282.24418604651163, 378.5785714285714, 'X[1] <= 113.5\\ngini = 0.455\\nsamples = 20\\nvalue = [13, 7]'),\n",
              " Text(262.77906976744185, 328.1014285714286, 'X[2] <= 80.0\\ngini = 0.153\\nsamples = 12\\nvalue = [11, 1]'),\n",
              " Text(253.046511627907, 277.6242857142857, 'gini = 0.0\\nsamples = 11\\nvalue = [11, 0]'),\n",
              " Text(272.51162790697674, 277.6242857142857, 'gini = 0.0\\nsamples = 1\\nvalue = [0, 1]'),\n",
              " Text(301.7093023255814, 328.1014285714286, 'X[7] <= 32.0\\ngini = 0.375\\nsamples = 8\\nvalue = [2, 6]'),\n",
              " Text(291.9767441860465, 277.6242857142857, 'gini = 0.0\\nsamples = 2\\nvalue = [2, 0]'),\n",
              " Text(311.4418604651163, 277.6242857142857, 'gini = 0.0\\nsamples = 6\\nvalue = [0, 6]'),\n",
              " Text(360.10465116279073, 378.5785714285714, 'X[1] <= 119.5\\ngini = 0.363\\nsamples = 42\\nvalue = [10, 32]'),\n",
              " Text(340.63953488372096, 328.1014285714286, 'X[6] <= 1.395\\ngini = 0.225\\nsamples = 31\\nvalue = [4, 27]'),\n",
              " Text(330.90697674418607, 277.6242857142857, 'X[7] <= 58.0\\ngini = 0.18\\nsamples = 30\\nvalue = [3, 27]'),\n",
              " Text(311.4418604651163, 227.14714285714285, 'X[0] <= 8.5\\ngini = 0.133\\nsamples = 28\\nvalue = [2, 26]'),\n",
              " Text(301.7093023255814, 176.66999999999996, 'gini = 0.0\\nsamples = 19\\nvalue = [0, 19]'),\n",
              " Text(321.1744186046512, 176.66999999999996, 'X[2] <= 59.0\\ngini = 0.346\\nsamples = 9\\nvalue = [2, 7]'),\n",
              " Text(311.4418604651163, 126.19285714285718, 'gini = 0.0\\nsamples = 1\\nvalue = [1, 0]'),\n",
              " Text(330.90697674418607, 126.19285714285718, 'X[1] <= 101.0\\ngini = 0.219\\nsamples = 8\\nvalue = [1, 7]'),\n",
              " Text(321.1744186046512, 75.71571428571428, 'X[6] <= 0.45\\ngini = 0.5\\nsamples = 2\\nvalue = [1, 1]'),\n",
              " Text(311.4418604651163, 25.238571428571504, 'gini = 0.0\\nsamples = 1\\nvalue = [0, 1]'),\n",
              " Text(330.90697674418607, 25.238571428571504, 'gini = 0.0\\nsamples = 1\\nvalue = [1, 0]'),\n",
              " Text(340.63953488372096, 75.71571428571428, 'gini = 0.0\\nsamples = 6\\nvalue = [0, 6]'),\n",
              " Text(350.37209302325584, 227.14714285714285, 'X[7] <= 61.0\\ngini = 0.5\\nsamples = 2\\nvalue = [1, 1]'),\n",
              " Text(340.63953488372096, 176.66999999999996, 'gini = 0.0\\nsamples = 1\\nvalue = [1, 0]'),\n",
              " Text(360.10465116279073, 176.66999999999996, 'gini = 0.0\\nsamples = 1\\nvalue = [0, 1]'),\n",
              " Text(350.37209302325584, 277.6242857142857, 'gini = 0.0\\nsamples = 1\\nvalue = [1, 0]'),\n",
              " Text(379.5697674418605, 328.1014285714286, 'X[5] <= 29.15\\ngini = 0.496\\nsamples = 11\\nvalue = [6, 5]'),\n",
              " Text(369.8372093023256, 277.6242857142857, 'gini = 0.0\\nsamples = 3\\nvalue = [0, 3]'),\n",
              " Text(389.3023255813954, 277.6242857142857, 'X[6] <= 0.792\\ngini = 0.375\\nsamples = 8\\nvalue = [6, 2]'),\n",
              " Text(379.5697674418605, 227.14714285714285, 'gini = 0.0\\nsamples = 6\\nvalue = [6, 0]'),\n",
              " Text(399.0348837209302, 227.14714285714285, 'gini = 0.0\\nsamples = 2\\nvalue = [0, 2]'),\n",
              " Text(389.3023255813954, 429.05571428571426, 'X[5] <= 43.05\\ngini = 0.245\\nsamples = 14\\nvalue = [12, 2]'),\n",
              " Text(379.5697674418605, 378.5785714285714, 'gini = 0.0\\nsamples = 12\\nvalue = [12, 0]'),\n",
              " Text(399.0348837209302, 378.5785714285714, 'gini = 0.0\\nsamples = 2\\nvalue = [0, 2]'),\n",
              " Text(583.0410610465117, 630.9642857142857, 'X[5] <= 28.15\\ngini = 0.472\\nsamples = 191\\nvalue = [73, 118]'),\n",
              " Text(452.56395348837214, 580.4871428571428, 'X[1] <= 145.5\\ngini = 0.334\\nsamples = 33\\nvalue = [26, 7]'),\n",
              " Text(428.2325581395349, 530.01, 'X[2] <= 73.0\\ngini = 0.1\\nsamples = 19\\nvalue = [18, 1]'),\n",
              " Text(418.5, 479.5328571428571, 'X[2] <= 71.0\\ngini = 0.278\\nsamples = 6\\nvalue = [5, 1]'),\n",
              " Text(408.7674418604651, 429.05571428571426, 'gini = 0.0\\nsamples = 5\\nvalue = [5, 0]'),\n",
              " Text(428.2325581395349, 429.05571428571426, 'gini = 0.0\\nsamples = 1\\nvalue = [0, 1]'),\n",
              " Text(437.9651162790698, 479.5328571428571, 'gini = 0.0\\nsamples = 13\\nvalue = [13, 0]'),\n",
              " Text(476.8953488372093, 530.01, 'X[3] <= 16.5\\ngini = 0.49\\nsamples = 14\\nvalue = [8, 6]'),\n",
              " Text(457.43023255813955, 479.5328571428571, 'X[1] <= 148.0\\ngini = 0.346\\nsamples = 9\\nvalue = [7, 2]'),\n",
              " Text(447.69767441860466, 429.05571428571426, 'gini = 0.0\\nsamples = 1\\nvalue = [0, 1]'),\n",
              " Text(467.16279069767444, 429.05571428571426, 'X[0] <= 8.5\\ngini = 0.219\\nsamples = 8\\nvalue = [7, 1]'),\n",
              " Text(457.43023255813955, 378.5785714285714, 'gini = 0.0\\nsamples = 7\\nvalue = [7, 0]'),\n",
              " Text(476.8953488372093, 378.5785714285714, 'gini = 0.0\\nsamples = 1\\nvalue = [0, 1]'),\n",
              " Text(496.3604651162791, 479.5328571428571, 'X[6] <= 0.143\\ngini = 0.32\\nsamples = 5\\nvalue = [1, 4]'),\n",
              " Text(486.6279069767442, 429.05571428571426, 'gini = 0.0\\nsamples = 1\\nvalue = [1, 0]'),\n",
              " Text(506.093023255814, 429.05571428571426, 'gini = 0.0\\nsamples = 4\\nvalue = [0, 4]'),\n",
              " Text(713.5181686046512, 580.4871428571428, 'X[1] <= 165.5\\ngini = 0.418\\nsamples = 158\\nvalue = [47, 111]'),\n",
              " Text(628.9665697674419, 530.01, 'X[6] <= 0.436\\ngini = 0.475\\nsamples = 111\\nvalue = [43, 68]'),\n",
              " Text(562.0552325581396, 479.5328571428571, 'X[7] <= 24.5\\ngini = 0.5\\nsamples = 64\\nvalue = [32, 32]'),\n",
              " Text(525.5581395348837, 429.05571428571426, 'X[2] <= 68.0\\ngini = 0.337\\nsamples = 14\\nvalue = [11, 3]'),\n",
              " Text(515.8255813953489, 378.5785714285714, 'X[5] <= 32.85\\ngini = 0.5\\nsamples = 6\\nvalue = [3, 3]'),\n",
              " Text(506.093023255814, 328.1014285714286, 'gini = 0.0\\nsamples = 3\\nvalue = [3, 0]'),\n",
              " Text(525.5581395348837, 328.1014285714286, 'gini = 0.0\\nsamples = 3\\nvalue = [0, 3]'),\n",
              " Text(535.2906976744187, 378.5785714285714, 'gini = 0.0\\nsamples = 8\\nvalue = [8, 0]'),\n",
              " Text(598.5523255813954, 429.05571428571426, 'X[5] <= 48.1\\ngini = 0.487\\nsamples = 50\\nvalue = [21, 29]'),\n",
              " Text(588.8197674418604, 378.5785714285714, 'X[7] <= 41.5\\ngini = 0.499\\nsamples = 44\\nvalue = [21, 23]'),\n",
              " Text(545.0232558139535, 328.1014285714286, 'X[7] <= 25.5\\ngini = 0.473\\nsamples = 26\\nvalue = [16, 10]'),\n",
              " Text(535.2906976744187, 277.6242857142857, 'gini = 0.0\\nsamples = 3\\nvalue = [0, 3]'),\n",
              " Text(554.7558139534884, 277.6242857142857, 'X[2] <= 69.0\\ngini = 0.423\\nsamples = 23\\nvalue = [16, 7]'),\n",
              " Text(535.2906976744187, 227.14714285714285, 'X[6] <= 0.279\\ngini = 0.49\\nsamples = 7\\nvalue = [3, 4]'),\n",
              " Text(525.5581395348837, 176.66999999999996, 'gini = 0.0\\nsamples = 4\\nvalue = [0, 4]'),\n",
              " Text(545.0232558139535, 176.66999999999996, 'gini = 0.0\\nsamples = 3\\nvalue = [3, 0]'),\n",
              " Text(574.2209302325582, 227.14714285714285, 'X[6] <= 0.285\\ngini = 0.305\\nsamples = 16\\nvalue = [13, 3]'),\n",
              " Text(564.4883720930233, 176.66999999999996, 'gini = 0.0\\nsamples = 9\\nvalue = [9, 0]'),\n",
              " Text(583.953488372093, 176.66999999999996, 'X[2] <= 77.0\\ngini = 0.49\\nsamples = 7\\nvalue = [4, 3]'),\n",
              " Text(574.2209302325582, 126.19285714285718, 'gini = 0.0\\nsamples = 3\\nvalue = [3, 0]'),\n",
              " Text(593.686046511628, 126.19285714285718, 'X[4] <= 39.5\\ngini = 0.375\\nsamples = 4\\nvalue = [1, 3]'),\n",
              " Text(583.953488372093, 75.71571428571428, 'gini = 0.0\\nsamples = 1\\nvalue = [1, 0]'),\n",
              " Text(603.4186046511628, 75.71571428571428, 'gini = 0.0\\nsamples = 3\\nvalue = [0, 3]'),\n",
              " Text(632.6162790697674, 328.1014285714286, 'X[0] <= 5.5\\ngini = 0.401\\nsamples = 18\\nvalue = [5, 13]'),\n",
              " Text(622.8837209302326, 277.6242857142857, 'X[4] <= 97.0\\ngini = 0.494\\nsamples = 9\\nvalue = [5, 4]'),\n",
              " Text(613.1511627906978, 227.14714285714285, 'X[2] <= 81.0\\ngini = 0.408\\nsamples = 7\\nvalue = [5, 2]'),\n",
              " Text(603.4186046511628, 176.66999999999996, 'gini = 0.0\\nsamples = 4\\nvalue = [4, 0]'),\n",
              " Text(622.8837209302326, 176.66999999999996, 'X[6] <= 0.288\\ngini = 0.444\\nsamples = 3\\nvalue = [1, 2]'),\n",
              " Text(613.1511627906978, 126.19285714285718, 'gini = 0.0\\nsamples = 2\\nvalue = [0, 2]'),\n",
              " Text(632.6162790697674, 126.19285714285718, 'gini = 0.0\\nsamples = 1\\nvalue = [1, 0]'),\n",
              " Text(632.6162790697674, 227.14714285714285, 'gini = 0.0\\nsamples = 2\\nvalue = [0, 2]'),\n",
              " Text(642.3488372093024, 277.6242857142857, 'gini = 0.0\\nsamples = 9\\nvalue = [0, 9]'),\n",
              " Text(608.2848837209302, 378.5785714285714, 'gini = 0.0\\nsamples = 6\\nvalue = [0, 6]'),\n",
              " Text(695.8779069767443, 479.5328571428571, 'X[5] <= 28.85\\ngini = 0.359\\nsamples = 47\\nvalue = [11, 36]'),\n",
              " Text(686.1453488372093, 429.05571428571426, 'gini = 0.0\\nsamples = 2\\nvalue = [2, 0]'),\n",
              " Text(705.6104651162791, 429.05571428571426, 'X[5] <= 38.6\\ngini = 0.32\\nsamples = 45\\nvalue = [9, 36]'),\n",
              " Text(681.2790697674419, 378.5785714285714, 'X[1] <= 164.5\\ngini = 0.18\\nsamples = 30\\nvalue = [3, 27]'),\n",
              " Text(671.546511627907, 328.1014285714286, 'X[7] <= 28.5\\ngini = 0.128\\nsamples = 29\\nvalue = [2, 27]'),\n",
              " Text(661.8139534883721, 277.6242857142857, 'X[0] <= 5.0\\ngini = 0.346\\nsamples = 9\\nvalue = [2, 7]'),\n",
              " Text(652.0813953488372, 227.14714285714285, 'X[4] <= 197.5\\ngini = 0.219\\nsamples = 8\\nvalue = [1, 7]'),\n",
              " Text(642.3488372093024, 176.66999999999996, 'gini = 0.0\\nsamples = 6\\nvalue = [0, 6]'),\n",
              " Text(661.8139534883721, 176.66999999999996, 'X[6] <= 0.721\\ngini = 0.5\\nsamples = 2\\nvalue = [1, 1]'),\n",
              " Text(652.0813953488372, 126.19285714285718, 'gini = 0.0\\nsamples = 1\\nvalue = [1, 0]'),\n",
              " Text(671.546511627907, 126.19285714285718, 'gini = 0.0\\nsamples = 1\\nvalue = [0, 1]'),\n",
              " Text(671.546511627907, 227.14714285714285, 'gini = 0.0\\nsamples = 1\\nvalue = [1, 0]'),\n",
              " Text(681.2790697674419, 277.6242857142857, 'gini = 0.0\\nsamples = 20\\nvalue = [0, 20]'),\n",
              " Text(691.0116279069767, 328.1014285714286, 'gini = 0.0\\nsamples = 1\\nvalue = [1, 0]'),\n",
              " Text(729.9418604651163, 378.5785714285714, 'X[3] <= 40.5\\ngini = 0.48\\nsamples = 15\\nvalue = [6, 9]'),\n",
              " Text(710.4767441860465, 328.1014285714286, 'X[2] <= 80.0\\ngini = 0.32\\nsamples = 10\\nvalue = [2, 8]'),\n",
              " Text(700.7441860465117, 277.6242857142857, 'gini = 0.0\\nsamples = 7\\nvalue = [0, 7]'),\n",
              " Text(720.2093023255815, 277.6242857142857, 'X[2] <= 85.0\\ngini = 0.444\\nsamples = 3\\nvalue = [2, 1]'),\n",
              " Text(710.4767441860465, 227.14714285714285, 'gini = 0.0\\nsamples = 2\\nvalue = [2, 0]'),\n",
              " Text(729.9418604651163, 227.14714285714285, 'gini = 0.0\\nsamples = 1\\nvalue = [0, 1]'),\n",
              " Text(749.4069767441861, 328.1014285714286, 'X[2] <= 55.0\\ngini = 0.32\\nsamples = 5\\nvalue = [4, 1]'),\n",
              " Text(739.6744186046512, 277.6242857142857, 'gini = 0.0\\nsamples = 1\\nvalue = [0, 1]'),\n",
              " Text(759.139534883721, 277.6242857142857, 'gini = 0.0\\nsamples = 4\\nvalue = [4, 0]'),\n",
              " Text(798.0697674418604, 530.01, 'X[2] <= 92.0\\ngini = 0.156\\nsamples = 47\\nvalue = [4, 43]'),\n",
              " Text(778.6046511627908, 479.5328571428571, 'X[6] <= 0.307\\ngini = 0.091\\nsamples = 42\\nvalue = [2, 40]'),\n",
              " Text(768.8720930232558, 429.05571428571426, 'X[6] <= 0.264\\ngini = 0.298\\nsamples = 11\\nvalue = [2, 9]'),\n",
              " Text(759.139534883721, 378.5785714285714, 'gini = 0.0\\nsamples = 8\\nvalue = [0, 8]'),\n",
              " Text(778.6046511627908, 378.5785714285714, 'X[0] <= 2.0\\ngini = 0.444\\nsamples = 3\\nvalue = [2, 1]'),\n",
              " Text(768.8720930232558, 328.1014285714286, 'gini = 0.0\\nsamples = 1\\nvalue = [0, 1]'),\n",
              " Text(788.3372093023256, 328.1014285714286, 'gini = 0.0\\nsamples = 2\\nvalue = [2, 0]'),\n",
              " Text(788.3372093023256, 429.05571428571426, 'gini = 0.0\\nsamples = 31\\nvalue = [0, 31]'),\n",
              " Text(817.5348837209302, 479.5328571428571, 'X[2] <= 99.5\\ngini = 0.48\\nsamples = 5\\nvalue = [2, 3]'),\n",
              " Text(807.8023255813954, 429.05571428571426, 'gini = 0.0\\nsamples = 2\\nvalue = [2, 0]'),\n",
              " Text(827.2674418604652, 429.05571428571426, 'gini = 0.0\\nsamples = 3\\nvalue = [0, 3]')]"
            ]
          },
          "metadata": {
            "tags": []
          },
          "execution_count": 58
        },
        {
          "output_type": "display_data",
          "data": {
            "image/png": "[encoded data removed]",
            "text/plain": [
              "<Figure size 1080x936 with 1 Axes>"
            ]
          },
          "metadata": {
            "tags": [],
            "needs_background": "light"
          }
        }
      ]
    },
    {
      "cell_type": "markdown",
      "metadata": {
        "id": "0K1OJtATAmER"
      },
      "source": [
        "## Optimizing Decision Tree Performance"
      ]
    },
    {
      "cell_type": "code",
      "metadata": {
        "id": "qvkN5jT1_OC_"
      },
      "source": [
        ""
      ],
      "execution_count": null,
      "outputs": []
    }
  ]
}