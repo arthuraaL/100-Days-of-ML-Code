{
 "cells": [
  {
   "cell_type": "markdown",
   "id": "848d4141",
   "metadata": {},
   "source": [
    "Decision Trees\n",
    "\n",
    "Uma arvore de decisao eh construida dividindo (split) todos os conjuntos de dados a partir de um root node em sub conjuntos de dados em children nodes. Para dividir eh necessario entender quais as features que fornecem a melhor divisao do conjunto. Este processo eh repetido de forma recursiva (recursive partitioning). A recursao chega ao fim, quando o conjunto no node em questao tem os mesmos labels ou quando nao eh adicionado mais nada apos a divisao. O node que possui dados unmixed eh chamado de leaf node. \n",
    "\n",
    "Decision Tree types:\n",
    "* Classification Tree\n",
    "* Regression Tree\n",
    "\n",
    "Decision tree algorithms:\n",
    "* ID3 (Iterative Dichotomiser 3)\n",
    "* C4.5 (successor of ID3)\n",
    "* CART (Classification And Regression Tree)\n",
    "* Chi-square automatic interaction detection (CHAID). Performs multi-level splits when computing classification trees.\n",
    "* MARS: extends decision trees to handle numerical data better.\n",
    "* Conditional Inference Trees. Statistics-based approach that uses non-parametric tests as splitting criteria, corrected for multiple testing to avoid overfitting. This approach results in unbiased predictor selection and does not require pruning.\n",
    "\n",
    "Gini impurity - Qual a probabilidade de um elemento do meu conjunto de dados ser classificado incorretamente, dado que ele foi classificado aleatoriamente de acordo com a distribuicao de labels usada no meu subconjunto.\n",
    "\n",
    "To compute the gini impurity we sum, over all classes, the probability p_i of an item being chosen times the incorrect probability of that item.\n",
    "\n",
    "$I_G = 1 - \\limits _{i=1}^{J} p_i^2$"
   ]
  },
  {
   "cell_type": "code",
   "execution_count": 1,
   "id": "f520365c",
   "metadata": {},
   "outputs": [],
   "source": [
    "import numpy as np\n",
    "import pandas as pd\n",
    "import matplotlib.pyplot as plt # data visualization\n",
    "import seaborn as sns # statistical data visualization\n",
    "%matplotlib inline"
   ]
  },
  {
   "cell_type": "code",
   "execution_count": null,
   "id": "58e624c3",
   "metadata": {},
   "outputs": [],
   "source": []
  }
 ],
 "metadata": {
  "kernelspec": {
   "display_name": "Python 3",
   "language": "python",
   "name": "python3"
  },
  "language_info": {
   "codemirror_mode": {
    "name": "ipython",
    "version": 3
   },
   "file_extension": ".py",
   "mimetype": "text/x-python",
   "name": "python",
   "nbconvert_exporter": "python",
   "pygments_lexer": "ipython3",
   "version": "3.8.5"
  }
 },
 "nbformat": 4,
 "nbformat_minor": 5
}
